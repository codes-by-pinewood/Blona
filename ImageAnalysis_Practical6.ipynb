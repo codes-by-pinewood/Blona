{
  "nbformat": 4,
  "nbformat_minor": 0,
  "metadata": {
    "colab": {
      "provenance": [],
      "authorship_tag": "ABX9TyNgLfiv1BVGViyw9jyjBNNX",
      "include_colab_link": true
    },
    "kernelspec": {
      "name": "python3",
      "display_name": "Python 3"
    },
    "language_info": {
      "name": "python"
    }
  },
  "cells": [
    {
      "cell_type": "markdown",
      "metadata": {
        "id": "view-in-github",
        "colab_type": "text"
      },
      "source": [
        "<a href=\"https://colab.research.google.com/github/codes-by-pinewood/Blona/blob/main/ImageAnalysis_Practical6.ipynb\" target=\"_parent\"><img src=\"https://colab.research.google.com/assets/colab-badge.svg\" alt=\"Open In Colab\"/></a>"
      ]
    },
    {
      "cell_type": "code",
      "source": [
        "!pip install diplib --quiet"
      ],
      "metadata": {
        "colab": {
          "base_uri": "https://localhost:8080/"
        },
        "id": "iWB9sNNvgAb8",
        "outputId": "b4f8ed59-ca9b-4cc6-ad0b-a0905b2e90af"
      },
      "execution_count": 1,
      "outputs": [
        {
          "output_type": "stream",
          "name": "stdout",
          "text": [
            "\u001b[2K     \u001b[90m━━━━━━━━━━━━━━━━━━━━━━━━━━━━━━━━━━━━━━━━\u001b[0m \u001b[32m8.0/8.0 MB\u001b[0m \u001b[31m7.5 MB/s\u001b[0m eta \u001b[36m0:00:00\u001b[0m\n",
            "\u001b[?25h"
          ]
        }
      ]
    },
    {
      "cell_type": "code",
      "execution_count": 2,
      "metadata": {
        "colab": {
          "base_uri": "https://localhost:8080/"
        },
        "id": "FRIknmgGfvmA",
        "outputId": "93f6d553-c485-4cad-84bd-b67f233076ae"
      },
      "outputs": [
        {
          "output_type": "stream",
          "name": "stdout",
          "text": [
            "DIPlib -- a quantitative image analysis library\n",
            "Version 3.4.3 (Mar 21 2024)\n",
            "For more information see https://diplib.org\n"
          ]
        }
      ],
      "source": [
        "#import necessary packages\n",
        "import diplib as dip\n",
        "import numpy as np\n",
        "import matplotlib.pyplot as plt\n",
        "from diplib import MeasurementTool as Tool\n",
        "from diplib import Threshold, Label"
      ]
    },
    {
      "cell_type": "code",
      "source": [
        "# mount to internal image files\n",
        "from google.colab import drive\n",
        "drive.mount('/content/drive/')\n",
        "path = '/content/drive/My Drive/ImageAnalysis/Practical6/'"
      ],
      "metadata": {
        "id": "hVxLf3nagDDp"
      },
      "execution_count": null,
      "outputs": []
    }
  ]
}